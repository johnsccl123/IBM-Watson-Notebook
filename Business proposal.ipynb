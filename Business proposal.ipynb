{
    "cells": [
        {
            "cell_type": "markdown",
            "metadata": {},
            "source": "# Business proposal"
        },
        {
            "cell_type": "markdown",
            "metadata": {},
            "source": "Introduction:"
        },
        {
            "cell_type": "markdown",
            "metadata": {
                "collapsed": true
            },
            "source": "New York is the most populous city in the United States. Also, the heart of the global financial market and This project will analyze which Hotel would be appropriate for the tourist to have nightlife on the trip to New York. For those who want to have a nice experience of hostel service after their nightlife, the content of this report is also suitable. This project will analyze the location of the convenience store, bar, and hostel."
        },
        {
            "cell_type": "markdown",
            "metadata": {},
            "source": "Data section:"
        },
        {
            "cell_type": "markdown",
            "metadata": {},
            "source": "The report will use the data from the Foursquare API.the data will be include the location of hotel,bar and the convience store at NewYork City.Then, The hostel, bar and convience store will be mapped by the folium library. The map visualize the location of the venues above that will demostarte the distribution of the bar and hotel. The hostel close to the bar and the convience store would be selected. The selected group of hotels would be compare by the rating from Foursquare. Finally, the recommodation will be made from these process.\n"
        }
    ],
    "metadata": {
        "kernelspec": {
            "display_name": "Python 3.6",
            "language": "python",
            "name": "python3"
        },
        "language_info": {
            "codemirror_mode": {
                "name": "ipython",
                "version": 3
            },
            "file_extension": ".py",
            "mimetype": "text/x-python",
            "name": "python",
            "nbconvert_exporter": "python",
            "pygments_lexer": "ipython3",
            "version": "3.6.9"
        }
    },
    "nbformat": 4,
    "nbformat_minor": 1
}